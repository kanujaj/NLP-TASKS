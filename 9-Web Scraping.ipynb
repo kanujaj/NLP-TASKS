{
 "cells": [
  {
   "cell_type": "code",
   "execution_count": 1,
   "metadata": {},
   "outputs": [],
   "source": [
    "import urllib.request"
   ]
  },
  {
   "cell_type": "code",
   "execution_count": 11,
   "metadata": {},
   "outputs": [],
   "source": [
    "dc= \"https://www.datacamp.com/\"\n",
    "page = urllib.request.urlopen(dc)"
   ]
  },
  {
   "cell_type": "code",
   "execution_count": 12,
   "metadata": {},
   "outputs": [
    {
     "name": "stderr",
     "output_type": "stream",
     "text": [
      "C:\\Users\\Palod\\Anaconda3\\lib\\site-packages\\bs4\\__init__.py:181: UserWarning: No parser was explicitly specified, so I'm using the best available HTML parser for this system (\"lxml\"). This usually isn't a problem, but if you run this code on another system, or in a different virtual environment, it may use a different parser and behave differently.\n",
      "\n",
      "The code that caused this warning is on line 193 of the file C:\\Users\\Palod\\Anaconda3\\lib\\runpy.py. To get rid of this warning, change code that looks like this:\n",
      "\n",
      " BeautifulSoup(YOUR_MARKUP})\n",
      "\n",
      "to this:\n",
      "\n",
      " BeautifulSoup(YOUR_MARKUP, \"lxml\")\n",
      "\n",
      "  markup_type=markup_type))\n"
     ]
    }
   ],
   "source": [
    "from bs4 import BeautifulSoup\n",
    "soup = BeautifulSoup(page)"
   ]
  },
  {
   "cell_type": "code",
   "execution_count": 13,
   "metadata": {},
   "outputs": [
    {
     "data": {
      "text/plain": [
       "<title data-react-helmet=\"true\">Learn R, Python &amp; Data Science Online</title>"
      ]
     },
     "execution_count": 13,
     "metadata": {},
     "output_type": "execute_result"
    }
   ],
   "source": [
    "soup.title"
   ]
  },
  {
   "cell_type": "code",
   "execution_count": 14,
   "metadata": {},
   "outputs": [
    {
     "data": {
      "text/plain": [
       "'Learn R, Python & Data Science Online'"
      ]
     },
     "execution_count": 14,
     "metadata": {},
     "output_type": "execute_result"
    }
   ],
   "source": [
    "soup.title.string"
   ]
  },
  {
   "cell_type": "code",
   "execution_count": 15,
   "metadata": {},
   "outputs": [
    {
     "data": {
      "text/plain": [
       "<a class=\"shim\" href=\"/\"></a>"
      ]
     },
     "execution_count": 15,
     "metadata": {},
     "output_type": "execute_result"
    }
   ],
   "source": [
    "soup.a"
   ]
  },
  {
   "cell_type": "code",
   "execution_count": 16,
   "metadata": {},
   "outputs": [],
   "source": [
    "all_links=soup.find_all(\"a\")"
   ]
  },
  {
   "cell_type": "code",
   "execution_count": 17,
   "metadata": {},
   "outputs": [
    {
     "data": {
      "text/plain": [
       "[<a class=\"shim\" href=\"/\"></a>,\n",
       " <a class=\"dc-header__nav-link dc-header__nav-link--has-dropdown\" href=\"#\">Learn</a>,\n",
       " <a class=\"dc-dropdown--nav__link dc-u-ph-4 dc-u-pv-8 dc-u-fw-regular\" href=\"/courses\">Courses (242)</a>,\n",
       " <a class=\"dc-dropdown--nav__link dc-u-ph-4 dc-u-pv-8 dc-u-fw-regular\" href=\"/tracks/skill\">Skill Tracks (20)</a>,\n",
       " <a class=\"dc-dropdown--nav__link dc-u-ph-4 dc-u-pv-8 dc-u-fw-regular\" href=\"/tracks/career\">Career Tracks (7)</a>,\n",
       " <a class=\"dc-dropdown--nav__link dc-u-ph-4 dc-u-pv-8 dc-u-fw-regular\" href=\"/instructors\">Instructors (201)</a>,\n",
       " <a class=\"dc-dropdown--nav__link dc-u-ph-4 dc-u-pv-8 dc-u-fw-regular\" href=\"/courses/intro-to-python-for-data-science\">Introduction to Python</a>,\n",
       " <a class=\"dc-dropdown--nav__link dc-u-ph-4 dc-u-pv-8 dc-u-fw-regular\" href=\"/courses/free-introduction-to-r\">Introduction to R</a>,\n",
       " <a class=\"dc-dropdown--nav__link dc-u-ph-4 dc-u-pv-8 dc-u-fw-regular\" href=\"/courses/intro-to-sql-for-data-science\">Intro to SQL for Data Science</a>,\n",
       " <a class=\"dc-dropdown--nav__link dc-u-ph-4 dc-u-pv-8 dc-u-fw-regular\" href=\"/courses/deep-learning-in-python\">Deep Learning in Python</a>,\n",
       " <a class=\"dc-dropdown--nav__link dc-u-ph-4 dc-u-pv-8 dc-u-fw-regular\" href=\"/courses/intermediate-r\">Intermediate R</a>,\n",
       " <a class=\"dc-dropdown--nav__link dc-u-ph-4 dc-u-pv-8 dc-u-fw-regular\" href=\"/courses/joining-data-in-postgresql\">Joining Data in SQL</a>,\n",
       " <a class=\"dc-link--grey-dark dc-u-d-b dc-u-mt-16\" href=\"/courses\">See all courses (242)</a>,\n",
       " <a class=\"dc-dropdown--nav__link dc-u-ph-4 dc-u-pv-8 dc-u-fx dc-u-fx-jcsb dc-u-fw-regular\" href=\"/tracks/data-scientist-with-r\">Data Scientist  with R<span class=\"dc-tag dc-tag--hue dc-u-bgc-primary-lightest dc-u-color-grey dc-u-fw-regular\">career</span></a>,\n",
       " <a class=\"dc-dropdown--nav__link dc-u-ph-4 dc-u-pv-8 dc-u-fx dc-u-fx-jcsb dc-u-fw-regular\" href=\"/tracks/data-scientist-with-python\">Data Scientist  with Python<span class=\"dc-tag dc-tag--hue dc-u-bgc-primary-lightest dc-u-color-grey dc-u-fw-regular\">career</span></a>,\n",
       " <a class=\"dc-dropdown--nav__link dc-u-ph-4 dc-u-pv-8 dc-u-fx dc-u-fx-jcsb dc-u-fw-regular\" href=\"/tracks/quantitative-analyst-with-r\">Quantitative Analyst  with R<span class=\"dc-tag dc-tag--hue dc-u-bgc-primary-lightest dc-u-color-grey dc-u-fw-regular\">career</span></a>,\n",
       " <a class=\"dc-dropdown--nav__link dc-u-ph-4 dc-u-pv-8 dc-u-fx dc-u-fx-jcsb dc-u-fw-regular\" href=\"/tracks/data-manipulation-with-python\">Data Manipulation  with Python<span class=\"dc-tag dc-tag--hue dc-u-bgc-primary-lightest dc-u-color-grey dc-u-fw-regular\">skills</span></a>,\n",
       " <a class=\"dc-dropdown--nav__link dc-u-ph-4 dc-u-pv-8 dc-u-fx dc-u-fx-jcsb dc-u-fw-regular\" href=\"/tracks/data-visualization-with-r\">Data Visualization  with R<span class=\"dc-tag dc-tag--hue dc-u-bgc-primary-lightest dc-u-color-grey dc-u-fw-regular\">skills</span></a>,\n",
       " <a class=\"dc-dropdown--nav__link dc-u-ph-4 dc-u-pv-8 dc-u-fx dc-u-fx-jcsb dc-u-fw-regular\" href=\"/tracks/importing-cleaning-data-with-r\">Importing &amp; Cleaning Data  with R<span class=\"dc-tag dc-tag--hue dc-u-bgc-primary-lightest dc-u-color-grey dc-u-fw-regular\">skills</span></a>,\n",
       " <a class=\"dc-link--grey-dark dc-u-mt-16\" href=\"/tracks/skill\">See all skill tracks (20)</a>,\n",
       " <a class=\"dc-link--grey-dark dc-u-mt-16 dc-u-bl dc-u-ml-8 dc-u-pl-8\" href=\"/tracks/career\">See all career tracks (7)</a>,\n",
       " <a class=\"dc-dropdown--nav__link dc-u-ph-4 dc-u-pv-8 dc-u-fw-regular\" href=\"/instructors/hwickham\">Hadley Wickham</a>,\n",
       " <a class=\"dc-dropdown--nav__link dc-u-ph-4 dc-u-pv-8 dc-u-fw-regular\" href=\"/instructors/maxkuhn\">Max Kuhn</a>,\n",
       " <a class=\"dc-dropdown--nav__link dc-u-ph-4 dc-u-pv-8 dc-u-fw-regular\" href=\"/instructors/cwickham\">Charlotte Wickham</a>,\n",
       " <a class=\"dc-dropdown--nav__link dc-u-ph-4 dc-u-pv-8 dc-u-fw-regular\" href=\"/instructors/katharinecc6b90c27e1b40129c2745c9215cc689\">Katharine Jarmul</a>,\n",
       " <a class=\"dc-dropdown--nav__link dc-u-ph-4 dc-u-pv-8 dc-u-fw-regular\" href=\"/instructors/team-anaconda\">Team Anaconda</a>,\n",
       " <a class=\"dc-dropdown--nav__link dc-u-ph-4 dc-u-pv-8 dc-u-fw-regular\" href=\"/instructors/mine\">Mine Cetinkaya-Rundel</a>,\n",
       " <a class=\"dc-link--grey-dark dc-u-d-b dc-u-mt-16\" href=\"/instructors\">Meet all instructors (201)</a>,\n",
       " <a class=\"dc-link--grey-dark dc-u-b-l dc-u-ph-16\" href=\"/community/\"><span class=\"dc-icon dc-icon--size-18 dc-icon--primary dc-u-mr-8\"><svg class=\"dc-icon__svg\"><path d=\"M9.915 11.345A5.629 5.629 0 0 0 5.797 9.55h-.161A5.644 5.644 0 0 0 0 15.186v1.84a.847.847 0 1 0 1.695 0v-1.84a3.975 3.975 0 0 1 3.974-3.974h.162a3.975 3.975 0 0 1 3.974 3.974v1.822c0 .469.38.848.848.848a.847.847 0 0 0 .78-.83v-1.84a5.628 5.628 0 0 0-.413-2.112c.055-.193.121-.382.2-.566a2.703 2.703 0 0 1 2.288-1.483h.12a2.678 2.678 0 0 1 2.677 2.678v1.34a.847.847 0 0 0 1.695.016v-1.356a4.347 4.347 0 0 0-4.322-4.339h-.119a4.322 4.322 0 0 0-3.644 1.98zM5.763 8.78a3.89 3.89 0 1 1 3.89-3.89 3.898 3.898 0 0 1-3.89 3.89zm0-6.119A2.229 2.229 0 1 0 7.992 4.89a2.229 2.229 0 0 0-2.23-2.204v-.025zm7.864 5.958a3.068 3.068 0 1 1 0-6.136 3.068 3.068 0 0 1 0 6.136zm0-4.466a1.398 1.398 0 1 0 1.398 1.398 1.407 1.407 0 0 0-1.398-1.365v-.033z\"></path></svg></span>Community</a>,\n",
       " <a class=\"dc-link--grey-dark dc-u-b-l dc-u-ph-16 dc-u-bl dc-u-bc-grey-light ds-snowplow-li-main-menu-projects\" href=\"/projects\"><span class=\"dc-icon dc-icon--size-18 dc-icon--primary dc-u-mr-8\"><svg class=\"dc-icon__svg\" viewbox=\"0 0 24 24\"><path d=\"M11.54 12.465a1.11 1.11 0 0 1-1.08 0L2.2 7.852v8.894l8.8 4.915 8.8-4.915V7.852l-8.26 4.613zm8.82-7.425c.733-.41 1.64.114 1.64.948v11.394c0 .393-.214.755-.56.948l-9.9 5.53a1.11 1.11 0 0 1-1.08 0l-9.9-5.53a1.087 1.087 0 0 1-.56-.948V5.988c0-.834.908-1.358 1.64-.948L11 10.267l9.36-5.227zM1.587 6.963a1.105 1.105 0 0 1-1.474-.492 1.084 1.084 0 0 1 .498-1.459l10-4.899c.31-.152.676-.15.985.005l9.765 4.899c.542.271.758.927.484 1.463-.275.536-.937.75-1.479.479l-9.273-4.653-9.506 4.657zm10.462 4.942a.415.415 0 0 0 .002-.007l-.002.007zm-2.1.003a.337.337 0 0 0-.001-.011v.011zm2.205 10.518c0 .188-.009.35-.027.485-.014.1-.033.192-.066.288-.04.112-.04.112-.156.303-.215.28-.215.28-.906.464-.691-.184-.691-.184-.906-.464-.116-.19-.116-.19-.156-.303a1.483 1.483 0 0 1-.066-.288 3.646 3.646 0 0 1-.027-.485V12.084c0-.187.009-.35.027-.485.014-.1.033-.191.066-.288.04-.112.04-.112.156-.303.215-.28.215-.28.906-.463.691.183.691.183.906.463.116.191.116.191.156.303.033.097.052.188.066.288.018.136.027.298.027.485v10.342z\"></path></svg></span>Projects</a>,\n",
       " <a class=\"dc-link--grey-dark dc-u-b-l dc-u-ph-16 dc-u-bl dc-u-bc-grey-light\" href=\"/community/podcast\"><span class=\"dc-icon dc-icon--size-18 dc-icon--primary dc-u-mr-8\"><svg class=\"dc-icon__svg\"><path d=\"M9.415 11.077h-.369a2.777 2.777 0 0 1-2.769-2.77V2.77A2.777 2.777 0 0 1 9.047 0h.368a2.777 2.777 0 0 1 2.77 2.77v5.538a2.777 2.777 0 0 1-2.77 2.769zm5.008-7.615c.573 0 1.039.464 1.039 1.038v3.462c0 3.08-2.25 5.64-5.193 6.136v1.825h2.077a1.038 1.038 0 1 1 0 2.077h-6.23a1.038 1.038 0 1 1 0-2.077h2.076v-1.825C5.25 13.602 3 11.042 3 7.962V4.5a1.038 1.038 0 1 1 2.077 0v3.462a4.158 4.158 0 0 0 4.154 4.153 4.158 4.158 0 0 0 4.154-4.153V4.5c0-.574.465-1.038 1.038-1.038z\" fill-rule=\"evenodd\"></path></svg></span>Podcast</a>,\n",
       " <a class=\"dc-header__nav-link ds-snowplow-li-main-menu-pricing\" href=\"/pricing\">Pricing</a>,\n",
       " <a class=\"dc-header__nav-link ds-snowplow-li-main-menu-for-business\" href=\"/groups/business\">For Business</a>,\n",
       " <a class=\"dc-btn dc-btn--tertiary dc-u-color-white\" href=\"/users/sign_in\">Sign in</a>,\n",
       " <a class=\"dc-link--grey dc-u-fw-regular\" href=\"/courses\">Courses (<!-- -->242<!-- -->)</a>,\n",
       " <a class=\"dc-link--grey dc-u-fw-regular\" href=\"/tracks/skill\">Skill Tracks (<!-- -->20<!-- -->)</a>,\n",
       " <a class=\"dc-link--grey dc-u-fw-regular\" href=\"/tracks/career\">Career Tracks (<!-- -->7<!-- -->)</a>,\n",
       " <a class=\"dc-link--grey dc-u-fw-regular\" href=\"/instructors\">Instructors (<!-- -->201<!-- -->)</a>,\n",
       " <a class=\"dc-link--grey dc-u-fw-regular ds-snowplow-li-main-menu-pricing\" href=\"/pricing\">See our plans</a>,\n",
       " <a class=\"dc-link--grey dc-u-fw-regular ds-snowplow-li-main-menu-for-business\" href=\"/groups/business\">For Business</a>,\n",
       " <a class=\"dc-link--grey dc-u-fw-regular ds-snowplow-li-main-menu-for-students\" href=\"/groups/education\">For Students</a>,\n",
       " <a class=\"dc-btn dc-btn--primary-light mobile-nav__create-account\" href=\"/users/sign_up\">Create Free Account</a>,\n",
       " <a class=\"dc-u-d-b dc-u-p-16 dc-link--grey-dark\" href=\"/users/sign_in\">Sign in</a>,\n",
       " <a class=\"header__mobile-nav hidden-lg hidden-md\" data-target=\"#mobile_nav\" data-toggle=\"modal\" href=\"#\"></a>,\n",
       " <a class=\"dc-btn dc-btn--secondary home-header__btn ds-snowplow-btn-home-header-start-learning\" href=\"/onboarding/learn?from=home\">Start Learning For Free</a>,\n",
       " <a class=\"dc-btn dc-btn--linkedin signup-form__social-button js-registration-btn\" href=\"/users/auth/linkedin\"><span class=\"dc-icon dc-icon--white dc-icon--size-18 dc-u-mr-8\"><svg class=\"dc-icon__svg\" height=\"18\" viewbox=\"0 0 18 18\" width=\"18\"><path d=\"M2.777 15.07h2.707V6.937H2.777v8.133zM5.66 4.43a1.385 1.385 0 0 0-.422-1.008c-.273-.266-.636-.399-1.09-.399-.453 0-.822.133-1.107.399a1.318 1.318 0 0 0-.428 1.008c0 .398.139.732.416 1.002.278.27.639.404 1.084.404h.012c.46 0 .832-.135 1.113-.404.282-.27.422-.604.422-1.002zm6.856 10.64h2.707v-4.664c0-1.203-.286-2.113-.856-2.73-.57-.617-1.324-.926-2.262-.926-1.062 0-1.878.457-2.449 1.371h.024V6.937H6.973c.023.516.023 3.227 0 8.133H9.68v-4.547c0-.296.027-.515.082-.656.117-.273.293-.506.527-.697.234-.191.524-.287.867-.287.906 0 1.36.613 1.36 1.84v4.347zM18 3.375v11.25c0 .93-.33 1.725-.99 2.385a3.25 3.25 0 0 1-2.385.99H3.375a3.25 3.25 0 0 1-2.385-.99A3.25 3.25 0 0 1 0 14.625V3.375C0 2.445.33 1.65.99.99A3.25 3.25 0 0 1 3.375 0h11.25c.93 0 1.725.33 2.385.99.66.66.99 1.455.99 2.385z\"></path></svg></span>LinkedIn</a>,\n",
       " <a class=\"dc-btn dc-btn--facebook signup-form__social-button js-registration-btn\" href=\"/users/auth/facebook\"><span class=\"dc-icon dc-icon--white dc-icon--size-18 dc-u-mr-8\"><svg class=\"dc-icon__svg\" height=\"18\" viewbox=\"0 0 18 18\" width=\"18\"><path d=\"M14.625 0c.93 0 1.725.33 2.385.99.66.66.99 1.455.99 2.385v11.25c0 .93-.33 1.725-.99 2.385a3.25 3.25 0 0 1-2.385.99h-2.203v-6.973h2.332l.351-2.718h-2.683V6.574c0-.437.092-.765.275-.984.184-.219.541-.328 1.073-.328l1.43-.012V2.824c-.493-.07-1.188-.105-2.087-.105-1.062 0-1.912.312-2.549.937-.636.625-.955 1.508-.955 2.649v2.004H7.266v2.718h2.343V18H3.375a3.25 3.25 0 0 1-2.385-.99A3.25 3.25 0 0 1 0 14.625V3.375C0 2.445.33 1.65.99.99A3.25 3.25 0 0 1 3.375 0h11.25z\"></path></svg></span>Facebook</a>,\n",
       " <a class=\"dc-btn dc-btn--google-plus signup-form__social-button js-registration-btn\" href=\"/users/auth/google_oauth2\"><span class=\"dc-icon dc-icon--white dc-icon--size-18 dc-u-mr-8\"><svg class=\"dc-icon__svg\" height=\"18\" viewbox=\"0 0 18 18\" width=\"18\"><path d=\"M13.884 8.09H9.116v1.933h2.744c-.255 1.227-1.325 1.932-2.744 1.932-1.674 0-3.023-1.319-3.023-2.955 0-1.636 1.349-2.955 3.023-2.955a3 3 0 0 1 1.884.66l1.488-1.455A5.161 5.161 0 0 0 9.116 4C6.28 4 4 6.227 4 9s2.28 5 5.116 5C11.674 14 14 12.182 14 9c0-.295-.047-.614-.116-.91zM18 14.626c0 .93-.33 1.725-.99 2.385a3.25 3.25 0 0 1-2.385.99H3.375a3.25 3.25 0 0 1-2.385-.99A3.25 3.25 0 0 1 0 14.626V3.376c0-.93.33-1.725.99-2.385a3.25 3.25 0 0 1 2.385-.99h11.25c.93 0 1.725.33 2.385.99.66.66.99 1.455.99 2.385v11.25z\"></path></svg></span>Google</a>,\n",
       " <a class=\"dc-link dc-link--tou dc-link--grey-oslo dc-u-fw-regular\" href=\"/terms-of-use\" target=\"_blank\">Terms of Use</a>,\n",
       " <a class=\"dc-link dc-link--tou dc-link--grey-oslo dc-u-fw-regular\" href=\"/privacy-policy\" target=\"_blank\">Privacy Policy</a>,\n",
       " <a class=\"shim ds-snowplow-link-home-sticky-nav-logo\" href=\"/\"></a>,\n",
       " <a class=\"dc-btn dc-btn--tertiary dc-u-color-white ds-snowplow-btn-home-sticky-nav-request-demo\" href=\"/groups/business\">Request a Demo</a>,\n",
       " <a class=\"dc-btn dc-btn--white dc-btn--shadowed dc-u-color-primary dc-u-ml-16 ds-snowplow-btn-home-sticky-nav-create-team\" href=\"/groups/subscribe\">Create a Team</a>,\n",
       " <a class=\"dc-btn dc-btn--tertiary dc-u-color-white ds-snowplow-btn-home-sticky-nav-sign-in\" href=\"/users/sign_in\">Sign in</a>,\n",
       " <a class=\"dc-btn dc-btn--white dc-btn--shadowed dc-u-color-primary dc-u-ml-16 ds-snowplow-btn-home-sticky-nav-create-account\" href=\"/users/sign_up\">Create Free Account</a>]"
      ]
     },
     "execution_count": 17,
     "metadata": {},
     "output_type": "execute_result"
    }
   ],
   "source": [
    "#ALL THE LINKS:\n",
    "\n",
    "all_links"
   ]
  },
  {
   "cell_type": "code",
   "execution_count": 18,
   "metadata": {},
   "outputs": [
    {
     "name": "stdout",
     "output_type": "stream",
     "text": [
      "/\n",
      "#\n",
      "/courses\n",
      "/tracks/skill\n",
      "/tracks/career\n",
      "/instructors\n",
      "/courses/intro-to-python-for-data-science\n",
      "/courses/free-introduction-to-r\n",
      "/courses/intro-to-sql-for-data-science\n",
      "/courses/deep-learning-in-python\n",
      "/courses/intermediate-r\n",
      "/courses/joining-data-in-postgresql\n",
      "/courses\n",
      "/tracks/data-scientist-with-r\n",
      "/tracks/data-scientist-with-python\n",
      "/tracks/quantitative-analyst-with-r\n",
      "/tracks/data-manipulation-with-python\n",
      "/tracks/data-visualization-with-r\n",
      "/tracks/importing-cleaning-data-with-r\n",
      "/tracks/skill\n",
      "/tracks/career\n",
      "/instructors/hwickham\n",
      "/instructors/maxkuhn\n",
      "/instructors/cwickham\n",
      "/instructors/katharinecc6b90c27e1b40129c2745c9215cc689\n",
      "/instructors/team-anaconda\n",
      "/instructors/mine\n",
      "/instructors\n",
      "/community/\n",
      "/projects\n",
      "/community/podcast\n",
      "/pricing\n",
      "/groups/business\n",
      "/users/sign_in\n",
      "/courses\n",
      "/tracks/skill\n",
      "/tracks/career\n",
      "/instructors\n",
      "/pricing\n",
      "/groups/business\n",
      "/groups/education\n",
      "/users/sign_up\n",
      "/users/sign_in\n",
      "#\n",
      "/onboarding/learn?from=home\n",
      "/users/auth/linkedin\n",
      "/users/auth/facebook\n",
      "/users/auth/google_oauth2\n",
      "/terms-of-use\n",
      "/privacy-policy\n",
      "/\n",
      "/groups/business\n",
      "/groups/subscribe\n",
      "/users/sign_in\n",
      "/users/sign_up\n"
     ]
    }
   ],
   "source": [
    "for link in all_links:\n",
    "    print(link.get(\"href\"))"
   ]
  },
  {
   "cell_type": "code",
   "execution_count": 19,
   "metadata": {},
   "outputs": [
    {
     "name": "stdout",
     "output_type": "stream",
     "text": [
      "data:image/svg+xml;base64,PHN2ZyB4bWxucz0iaHR0cDovL3d3dy53My5vcmcvMjAwMC9zdmciIHZpZXdCb3g9IjAgMCAxNzMgMzkiPjxnIGZpbGw9Im5vbmUiIGZpbGwtcnVsZT0iZXZlbm9kZCI+PHBhdGggZmlsbD0iI0ZGRiIgZD0iTTYxLjIwNCAxOC43OTNhMTAuOTUgMTAuOTUgMCAwIDEtLjczIDQuMDU1IDkuMDY2IDkuMDY2IDAgMCAxLTUuMjMgNS4yNDkgMTEuMTM3IDExLjEzNyAwIDAgMS00LjEyOS43NGgtNy41ODRWOC43NTFoNy41ODNhMTEuMDQgMTEuMDQgMCAwIDEgNC4xMjkuNzQ0IDkuMzMgOS4zMyAwIDAgMSAzLjE4MiAyLjA2NCA5LjI0NCA5LjI0NCAwIDAgMSAyLjA1IDMuMTc2IDEwLjkyIDEwLjkyIDAgMCAxIC43MjkgNC4wNTd6bS0zLjggMGE5LjQxNSA5LjQxNSAwIDAgMC0uNDMyLTIuOTY1IDYuMTc4IDYuMTc4IDAgMCAwLTEuMjUzLTIuMjIyIDUuNDcyIDUuNDcyIDAgMCAwLTEuOTgyLTEuMzk4IDYuNzc0IDYuNzc0IDAgMCAwLTIuNjItLjQ4OGgtMy44Njl2MTQuMTRoMy44NjhhNi43MDkgNi43MDkgMCAwIDAgMi42MjEtLjQ4NyA1LjQ3OCA1LjQ3OCAwIDAgMCAxLjk4NC0xLjM5NmMuNTY2LS42NDMuOTkzLTEuNCAxLjI1Mi0yLjIyMS4zLS45NTcuNDQ3LTEuOTYuNDMyLTIuOTYydi0uMDAxem02LjIyOS0yLjIyMmMxLjYyNS0xLjUgMy41NzgtMi4yNSA1Ljg2Mi0yLjI1YTUuNzAzIDUuNzAzIDAgMCAxIDIuMjE4LjQwOCA0LjcwMyA0LjcwMyAwIDAgMSAxLjY1MSAxLjE0MyA0Ljg5IDQuODkgMCAwIDEgMS4wMjUgMS43NDRjLjI0LjcxNi4zNTggMS40NjcuMzUxIDIuMjIydjloLTEuNTQzYTEuNTI0IDEuNTI0IDAgMCAxLS43NDItLjE0NmMtLjE3NS0uMDk4LS4zMTItLjI5Ni0uNDE0LS41OTJsLS4zMDItMS4wMjhjLS4zMzIuMzA0LS42ODEuNTktMS4wNDYuODU1YTYuMjYzIDYuMjYzIDAgMCAxLTEuMDYuNjE3Yy0uMzc4LjE3LS43NzMuMjk3LTEuMTc3LjM4YTYuNTg2IDYuNTg2IDAgMCAxLTEuMzg2LjEyNyA1LjM3IDUuMzcgMCAwIDEtMS42NTItLjI0MiAzLjYxMyAzLjYxMyAwIDAgMS0xLjMwOC0uNzI5IDMuMjggMy4yOCAwIDAgMS0uODUzLTEuMjA4IDQuMzE3IDQuMzE3IDAgMCAxLS4zMDItMS42OGMwLS4zNjYuMDYtLjczLjE3OS0xLjA3Ni4xMjktLjM3Mi4zMjctLjcxOC41ODUtMS4wMTZhNC44NTQgNC44NTQgMCAwIDEgMS4wNTItLjkxNiA2LjgzIDYuODMgMCAwIDEgMS41OS0uNzUgMTMuNjIgMTMuNjIgMCAwIDEgMi4xOTYtLjUyIDIxLjY2NSAyMS42NjUgMCAwIDEgMi44NjMtLjI0MnYtLjgzM2MwLS45NTQtLjItMS42Ni0uNjA1LTIuMTE5LS40MDItLjQ1Ny0uOTg2LS42ODctMS43NDgtLjY4N2E0LjEyOCA0LjEyOCAwIDAgMC0xLjM2OS4xOTUgNS41NjMgNS41NjMgMCAwIDAtLjk1Ny40MzcgNjkuMzMgNjkuMzMgMCAwIDEtLjc1NS40MzdjLS4yMy4xMzMtLjQ5Mi4yLS43NTYuMTk1YS45NzguOTc4IDAgMCAxLS42MDYtLjE4OCAxLjU1MyAxLjU1MyAwIDAgMS0uNC0uNDM3bC0uNTkzLTEuMDk5LjAwMi0uMDAyem03Ljc5IDYuMTc4Yy0uODMuMDMtMS42NTkuMTE1LTIuNDc4LjI1NWE2LjUyMiA2LjUyMiAwIDAgMC0xLjYxLjQ3OCAyLjEyNiAyLjEyNiAwIDAgMC0uODY4LjY4MSAxLjUgMS41IDAgMCAwLS4yNjIuODQ4YzAgLjYwMy4xNzYgMS4wMzQuNTMgMS4yOTMuMzUyLjI1OS44MTUuMzg4IDEuMzg0LjM4OGEzLjk4MiAzLjk4MiAwIDAgMCAxLjgwOS0uMzgxIDUuMzMxIDUuMzMxIDAgMCAwIDEuNDk0LTEuMTU3VjIyLjc1em0xMS40MDMgNi4zMDZjLTEuMjMgMC0yLjE3Mi0uMzQ4LTIuODI4LTEuMDQ4LS42NTYtLjY5OC0uOTg0LTEuNjYzLS45ODUtMi44OTV2LTcuOTZoLTEuNDQ5YS42Ny42NyAwIDAgMS0uNDY4LS4xODMuNzA2LjcwNiAwIDAgMS0uMTkyLS41NHYtMS4zNTZsMi4yNjYtLjM4Mi43MTUtMy44ODlhLjc3MS43NzEgMCAwIDEgLjI2Mi0uNDMuNzY5Ljc2OSAwIDAgMSAuNDk2LS4xNTFoMS43NjR2NC40OWgzLjc3N3YyLjQ0aC0zLjc3N3Y3LjcyYzAgLjQ0NC4xMDcuNzkyLjMyMyAxLjA0Mi4yMjIuMjU0LjU0NS4zOTQuODgyLjM4MS4xNzkuMDA0LjM1OS0uMDIxLjUyOS0uMDc2YTIuNzIgMi43MiAwIDAgMCAuMzc3LS4xNjJjLjEwNS0uMDU1LjItLjEwOS4yODMtLjE2YS40NjIuNDYyIDAgMCAxIC4yNTEtLjA3NS4zOC4zOCAwIDAgMSAuMjUyLjA3NmMuMDc4LjA2Ni4xNDguMTQzLjIwNy4yMjlsMS4wMTkgMS42NjZhNS4xNCA1LjE0IDAgMCAxLTEuNzA2Ljk0NCA2LjI5MyA2LjI5MyAwIDAgMS0xLjk5Ni4zMTloLS4wMDJ6bTUuNTgtMTIuNDg0YzEuNjI2LTEuNSAzLjU4LTIuMjUgNS44NjMtMi4yNWE1LjcwMyA1LjcwMyAwIDAgMSAyLjIxOC40MDggNC43MDMgNC43MDMgMCAwIDEgMS42NTEgMS4xNDMgNC45MDEgNC45MDEgMCAwIDEgMS4wMjUgMS43NDRjLjI0MS43MTYuMzU4IDEuNDY3LjM1MSAyLjIyMnY5aC0xLjU0MmExLjUyNCAxLjUyNCAwIDAgMS0uNzQzLS4xNDZjLS4xNzQtLjA5OC0uMzEyLS4yOTYtLjQxMy0uNTkybC0uMzAyLTEuMDI4Yy0uMzMyLjMwNC0uNjgyLjU5LTEuMDQ1Ljg1NWE2LjMwMiA2LjMwMiAwIDAgMS0xLjA2LjYxN2MtLjM3OC4xNy0uNzczLjI5Ny0xLjE3OC4zOGE2LjU3IDYuNTcgMCAwIDEtMS4zODUuMTI3IDUuMzcgNS4zNyAwIDAgMS0xLjY1MS0uMjQyIDMuNjEzIDMuNjEzIDAgMCAxLTEuMzA4LS43MjkgMy4yNzcgMy4yNzcgMCAwIDEtLjg1My0xLjIwOCA0LjMxNyA0LjMxNyAwIDAgMS0uMzAyLTEuNjggMy4xNzUgMy4xNzUgMCAwIDEgLjc2NS0yLjA5MmMuMzA1LS4zNTUuNjYtLjY2MyAxLjA1Mi0uOTE2YTYuODY3IDYuODY3IDAgMCAxIDEuNTktLjc1IDEzLjYyIDEzLjYyIDAgMCAxIDIuMTk2LS41MmMuOTUtLjE0NSAxLjkwOC0uMjI2IDIuODY2LS4yNDV2LS44MzNjMC0uOTU0LS4yLTEuNjYtLjYwNS0yLjExOC0uNDAzLS40NTgtLjk4Ny0uNjg3LTEuNzQ3LS42ODdhNC4xMjQgNC4xMjQgMCAwIDAtMS4zNy4xOTUgNS42MDIgNS42MDIgMCAwIDAtLjk1OC40MzcgNjMuNTggNjMuNTggMCAwIDEtLjc1NS40MzcgMS41IDEuNSAwIDAgMS0uNzU1LjE5NS45NzguOTc4IDAgMCAxLS42MDYtLjE5IDEuNTQgMS41NCAwIDAgMS0uNC0uNDM2bC0uNTk2LTEuMDk3LS4wMDMtLjAwMXptNy43OTQgNi4xOGMtLjgzMi4wMy0xLjY2LjExNC0yLjQ3OS4yNTRhNi41NyA2LjU3IDAgMCAwLTEuNjEuNDc4IDIuMTEgMi4xMSAwIDAgMC0uODY3LjY4MyAxLjQ3IDEuNDcgMCAwIDAtLjI2My44NDZjMCAuNjAxLjE3NSAxLjAzMi41MyAxLjI5LjM1My4yNi44MTUuMzkgMS4zODUuMzlhNC4wMjkgNC4wMjkgMCAwIDAgMS44MS0uMzggNS40NDEgNS40NDEgMCAwIDAgMS40OTQtMS4xNlYyMi43NXYuMDAxem0yMC44MjggMS4zNDdjLjIwNCAwIC4zOTguMDg2LjUzNy4yMzVsMS40NTkgMS41OThhOC4wMTYgOC4wMTYgMCAwIDEtMi45OCAyLjMyYy0xLjE3NS41MzYtMi41OS44MDYtNC4yNDYuODA2LTEuNDc2IDAtMi44MDYtLjI1NS0zLjk4Ni0uNzYyYTguNzY4IDguNzY4IDAgMCAxLTMuMDIxLTIuMTI4IDkuMyA5LjMgMCAwIDEtMS45MTgtMy4yNSAxMi4yNiAxMi4yNiAwIDAgMS0uNjY4LTQuMTI0Yy0uMDE4LTEuNDE1LjIyNS0yLjgyLjcxNi00LjE0NmE5LjUxOCA5LjUxOCAwIDAgMSAyLjAxMy0zLjI0MiA5LjEzOCA5LjEzOCAwIDAgMSAzLjEtMi4xMTkgMTAuMjYgMTAuMjYgMCAwIDEgMy45OTItLjc2MmMxLjQ0OSAwIDIuNzM1LjI0MiAzLjg2LjcyM2E5LjE4NCA5LjE4NCAwIDAgMSAyLjg3NCAxLjg5NGwtMS4yMzkgMS43MzRhMS4xMDkgMS4xMDkgMCAwIDEtLjI4Mi4yOTEuNzg2Ljc4NiAwIDAgMS0uNDc0LjEyOC45MDQuOTA0IDAgMCAxLS40MjctLjEyIDUuNjEgNS42MSAwIDAgMS0uNDgyLS4yOSAxNy45MzYgMTcuOTM2IDAgMCAwLS42MDctLjM4MiA0LjkyOCA0LjkyOCAwIDAgMC0uNzk3LS4zODEgNi41NzYgNi41NzYgMCAwIDAtMS4wNTMtLjI5IDcuMTIgNy4xMiAwIDAgMC0xLjM4NS0uMTIgNi4wODQgNi4wODQgMCAwIDAtMi40NC40ODIgNS4yOTcgNS4yOTcgMCAwIDAtMS45MDcgMS4zODcgNi40MDQgNi40MDQgMCAwIDAtMS4yMzkgMi4yMjIgOS4zNjIgOS4zNjIgMCAwIDAtLjQ0IDIuOTkzIDguODQ3IDguODQ3IDAgMCAwIC40NzQgMy4wMTJjLjI4LjgyLjcxNyAxLjU3NCAxLjI4NiAyLjIyMmE1LjUgNS41IDAgMCAwIDEuOTE0IDEuMzc0IDUuODgyIDUuODgyIDAgMCAwIDIuMzY4LjQ3OSAxMC40IDEwLjQgMCAwIDAgMS4zNjktLjA4NGMuMzg0LS4wNS43NjQtLjEzOSAxLjEzMi0uMjY1LjM0MS0uMTE4LjY3LS4yNzQuOTc5LS40NjQuMzI1LS4yMDQuNjMyLS40NC45MTQtLjcwMmExLjI3IDEuMjcgMCAwIDEgLjI4OC0uMi42OTQuNjk0IDAgMCAxIC4zMTMtLjA3NGwuMDAzLjAwNXptNC4wNTItNy41MjdjMS42MjUtMS41IDMuNTc5LTIuMjUgNS44NjQtMi4yNWE1LjcgNS43IDAgMCAxIDIuMjE1LjQwOCA0LjcwMyA0LjcwMyAwIDAgMSAxLjY1MiAxLjE0MyA0Ljg5IDQuODkgMCAwIDEgMS4wMjUgMS43NDQgNi43NCA2Ljc0IDAgMCAxIC4zNSAyLjIyMnY5aC0xLjU0YTEuNTI0IDEuNTI0IDAgMCAxLS43NDMtLjE0NmMtLjE3NS0uMDk4LS4zMTMtLjI5Ni0uNDEzLS41OTJsLS4zMDMtMS4wMjhjLS4zMzIuMzA0LS42ODEuNTktMS4wNDYuODU1YTYuMTkgNi4xOSAwIDAgMS0xLjA2LjYxN2MtLjM3Ny4xNy0uNzcyLjI5Ny0xLjE3Ni4zOGE2LjU4IDYuNTggMCAwIDEtMS4zODYuMTI3IDUuMzc5IDUuMzc5IDAgMCAxLTEuNjUxLS4yNDIgMy42MTcgMy42MTcgMCAwIDEtMS4zMDgtLjcyOSAzLjI2OSAzLjI2OSAwIDAgMS0uODUzLTEuMjA4IDQuMzMzIDQuMzMzIDAgMCAxLS4zMDItMS42OGMwLS4zNjYuMDYyLS43My4xOC0xLjA3Ni4xMjktLjM3Mi4zMjgtLjcxOC41ODUtMS4wMTYuMzA2LS4zNTUuNjYtLjY2MyAxLjA1Mi0uOTE2YTYuODg0IDYuODg0IDAgMCAxIDEuNTktLjc1Yy43MTctLjIzMyAxLjQ1LS40MDggMi4xOTctLjUyYTIxLjY2NSAyMS42NjUgMCAwIDEgMi44NjMtLjI0MnYtLjgzM2MwLS45NTQtLjIwMS0xLjY2LS42MDYtMi4xMTktLjQwMy0uNDU3LS45ODctLjY4Ny0xLjc0Ny0uNjg3YTQuMTI0IDQuMTI0IDAgMCAwLTEuMzcuMTk1IDUuNjAyIDUuNjAyIDAgMCAwLS45NTguNDM3Yy0uMjc1LjE2Mi0uNTI3LjMwNy0uNzU1LjQzNy0uMjMuMTMzLS40OS4yLS43NTUuMTk1YS45NzcuOTc3IDAgMCAxLS42MDctLjE4OCAxLjU0IDEuNTQgMCAwIDEtLjQtLjQzN2wtLjU5Ni0xLjA5OS4wMDItLjAwMnptNy43OSA2LjE3OGMtLjgzLjAzLTEuNjU4LjExNS0yLjQ3OC4yNTVhNi42MDcgNi42MDcgMCAwIDAtMS42MS40ODIgMi4xMTYgMi4xMTYgMCAwIDAtLjg2OC42ODIgMS40OCAxLjQ4IDAgMCAwLS4yNi44NDdjMCAuNjAzLjE3NiAxLjAzMy41MyAxLjI5MS4zNTMuMjYuODE1LjM4OSAxLjM4NC4zODlhNC4wMDUgNC4wMDUgMCAwIDAgMS44MDktLjM4MiA1LjM1IDUuMzUgMCAwIDAgMS40OTQtMS4xNnYtMi40MDR6bTYuODkgNi4wODhWMTQuNTg0aDIuMDhjLjQtLjAyOC43NjQuMjM0Ljg2Ni42MjZsLjIyIDEuMDU1Yy4yNDItLjI3LjUwMi0uNTI2Ljc3OC0uNzYzYTQuNzk5IDQuNzk5IDAgMCAxIDEuODYtLjk5M2MuMzc4LS4xLjc3LS4xNSAxLjE2MS0uMTQ1Ljg5MSAwIDEuNjIzLjI0MyAyLjE5Ni43MjlhNC4zOTQgNC4zOTQgMCAwIDEgMS4yODcgMS45MzhjLjIwNC0uNDUuNDg0LS44Ni44MjYtMS4yMTZhNC41MDIgNC41MDIgMCAwIDEgMS4wODYtLjgyNSA0Ljk2MyA0Ljk2MyAwIDAgMSAxLjI1OS0uNDc0IDYuMTIgNi4xMiAwIDAgMSAxLjM0My0uMTUyIDUuNjAzIDUuNjAzIDAgMCAxIDIuMDguMzYxIDQuMDAxIDQuMDAxIDAgMCAxIDEuNTI2IDEuMDU1Yy40MjguNDkyLjc1MiAxLjA3Ljk0NCAxLjY5NWE3LjQ4IDcuNDggMCAwIDEgLjMyMyAyLjI4NnY5LjA3N2gtMy4zOTl2LTkuMDcyYzAtLjkwOC0uMTk4LTEuNTktLjU5NC0yLjA0OC0uMzkzLS40NTktLjk3MS0uNjg3LTEuNzMyLS42ODdhMi41NTcgMi41NTcgMCAwIDAtLjk3LjE4IDIuMzIgMi4zMiAwIDAgMC0uNzg3LjUyIDIuMzk3IDIuMzk3IDAgMCAwLS41My44NTQgMy4zOSAzLjM5IDAgMCAwLS4xOTEgMS4xOHY5LjA3MmgtMy40MTN2LTkuMDcxYzAtLjk1NC0uMTktMS42NDktLjU3Mi0yLjA4My0uMzgtLjQzNi0uOTM4LS42NTQtMS42NzItLjY1NGEyLjcyNiAyLjcyNiAwIDAgMC0xLjM4NS4zNjkgNC42NiA0LjY2IDAgMCAwLTEuMTkgMS4wMDZ2MTAuNDMyaC0zLjR2LjAwMXptMjYuNjUyLTEyLjMwNmE3LjM1NCA3LjM1NCAwIDAgMSAxLjk2OC0xLjU5OGMuNzM0LS40MDcgMS41OTYtLjYxMSAyLjU4OC0uNjExYTQuNjAzIDQuNjAzIDAgMCAxIDIuMTEyLjQ4NyA0LjcyNiA0LjcyNiAwIDAgMSAxLjY1MiAxLjQxIDYuNzM4IDYuNzM4IDAgMCAxIDEuMDc0IDIuMjc2Yy4yNjYgMS4wMTIuMzk0IDIuMDU2LjM3OCAzLjEwNGE5Ljg1IDkuODUgMCAwIDEtLjQyNiAyLjk1NyA3LjI0NiA3LjI0NiAwIDAgMS0xLjIxOCAyLjM2IDUuNjQyIDUuNjQyIDAgMCAxLTEuOTE0IDEuNTYzIDUuNTE3IDUuNTE3IDAgMCAxLTIuNTExLjU2MyA1LjAxMyA1LjAxMyAwIDAgMS0yLjAyNC0uMzY5IDQuOTc3IDQuOTc3IDAgMCAxLTEuNS0xLjAxN3Y1LjgzM2gtMy40VjE0LjU4NWgyLjA4Yy40LS4wMy43NjQuMjMzLjg2Ny42MjVsLjI3NCAxLjMyem0uMTc4IDguNjA4Yy4zMzQuNDMyLjc2Ni43NzUgMS4yNiAxYTMuNzIgMy43MiAwIDAgMCAxLjQ4LjI5MiAzLjIzIDMuMjMgMCAwIDAgMS4zODUtLjI5MmMuNDItLjIwMS43ODMtLjUwNyAxLjA1My0uODlhNC40MyA0LjQzIDAgMCAwIC42NjgtMS41MDYgOC43NzggOC43NzggMCAwIDAgLjIzNS0yLjE0NSA5LjYzNCA5LjYzNCAwIDAgMC0uMi0yLjExOCA0LjExNiA0LjExNiAwIDAgMC0uNTcxLTEuNDEgMi4yNjEgMi4yNjEgMCAwIDAtLjktLjc5Yy0uMzgtLjE3NC0uNzktLjI2LTEuMjA2LS4yNTVhMy40MDUgMy40MDUgMCAwIDAtMS44MDMuNDUyIDUuNDM1IDUuNDM1IDAgMCAwLTEuNDA0IDEuMjdsLjAwNSA2LjM5MmgtLjAwMnoiLz48cGF0aCBmaWxsPSIjM0FDIiBkPSJNMTguMTM5IDM4Ljk3YTEuMjQgMS4yNCAwIDAgMS0uNTk0LS4xNTNsLTE0LjU1LTguMDc0YTEuMjQ4IDEuMjQ4IDAgMCAxLS42MjktLjk2TC4wMDcgNy4zMDhhMS4yNDQgMS4yNDQgMCAwIDEgLjgxOS0xLjMwN0wxNy41NDkuMDdjLjI2Mi0uMDkyLjU0Ny0uMDkyLjgxIDBsMTcuMDg3IDUuOTI1Yy41NDguMTk1Ljg4Ny43NDguODE4IDEuMzNsLTIuNzEyIDIyLjQ3NmMtLjA0OC4zOTMtLjI3Ny43NC0uNjE3LjkzNGwtMTQuMTkgOC4wNzVjLS4xODMuMTA1LS4zOTMuMTYtLjYwNS4xNmgtLjAwMXoiLz48cGF0aCBmaWxsPSIjRkZGIiBkPSJNMjUuMzcgMTYuNTM1Yy4zMzMtMS4zOC4yOTItMi42OC0uNDU1LTQuNDk0IDAgMCAxLjIwMy40NyAxLjA3OC0uNDY0LS4xMjYtLjkzNC0xLjQ1LTEuOTIxLTIuNDQ3LTIuNTQyLS40NC0uMjc1LTEuNjI1LS44NjMtMy4yMTUtMS4yMmwuMjk3LS42NzYtLjA4Mi0uMDQxYy0yLjQ2Ny0xLjIxMi01LjMxOS0uMTEzLTUuMzQ3LS4xMDFsLS4wODguMDM0LjI4Mi43NTNhOS44MjcgOS44MjcgMCAwIDAtMi4zOTQuOWMtNi43MDQgMy42LTMuMzAzIDEwLjYyOC0xLjIyNyAxMi4zIDIuMDc4IDEuNjczIDEuMTIgNS4wODEgMCA4LjE3aDkuMDAzYy4xMjYtLjU3OC4wMTcuMjg0LjQzNy0yLjAyLjQyLTIuMzA3IDIuMDM2LTEuNDUgMy4zMTEtMS41MjUgMS4yNzQtLjA3NiAxLjA3Mi0uOTczIDEuMDU3LTEuOTc3LjYyMy0uMjgzLjYyMy0uNTgxLjIwNy0uOTQyLjUzOS0uNTA4LjQ1Ni0uNTA4LjE2Ni0uOTk0LS4yODktLjQ4OC0uMDgzLS43MjItLjA4My0uNzIycy44Ny0uMTcuOTk0LS42MzVjLjA0LTEuMDAxLTEuODI2LTIuNDI1LTEuNDk0LTMuODAydi0uMDAyeiIvPjxwYXRoIGZpbGw9IiMzQUMiIGQ9Ik0yMy41MSAxNi4yNDVsLTEuMzM0LS40NTdjLS4wNy4xODQtLjc1NSAxLjg5My0xLjYzNiAyLjE5NGwtLjg0LTEuMTIzYy0uNDA1LjMxOS0xLjMyOS42LTEuNzczLjQ3di0uMDQyaC0uMDIzbC4wMjYgMy4wOTVjLTEuNzcuMTgzLTMuODg1LS44OTctNC44OTYtMi4zODRsLTEuMTA3Ljg0NmMtMS4yNTgtMS41MzMtMS40NS0zLjM4MS0xLjQ2Mi00LjQ0NmgxLjQ4MmMwLTEuMTc3LjQ1Ni0yLjcxIDEuMDk3LTMuNTU3bDEuMTYyLjgzYy4wOTYtLjExOS45NzMtMS4xOCAyLjE0OC0xLjU2aC4wMTdsLS44MzktMi4yNDNjMS43NzQtLjUxNCAzLjA3Ni0uNTA3IDQuNDk0LjAyN2EuNDgyLjQ4MiAwIDAgMSAuMTI2LjA2bC4wMjIuMDE3LS4yNTEuNjY3Yy4wNjYuMDMgMS4wMDcuNDU2IDEuMzk2Ljg1N2wuMzE1LS40MzdhNS4zODQgNS4zODQgMCAwIDEgMi4zOTIgMy4yMTdsLS40OC4xNzR2LS4wMTNhNy4wOTUgNy4wOTUgMCAwIDEtLjAzNSAzLjgxbC0uMDAxLS4wMDJ6Ii8+PHBhdGggZmlsbD0iI0ZGRiIgZD0iTTE3Ljg0MiAxMi4xNTZjLS42IDAtMS4xNDEuMzY0LTEuMzcyLjkyMmExLjUwOSAxLjUwOSAwIDAgMCAuMzIxIDEuNjMxIDEuNDc2IDEuNDc2IDAgMCAwIDEuNjE1LjMyNGMuNTU0LS4yMy45MTYtLjc3Ny45MTYtMS4zODNhMS40OSAxLjQ5IDAgMCAwLTEuNDgxLTEuNDk0eiIvPjwvZz48L3N2Zz4=\n",
      "/static/python-r-sql-spark-fb2bfdc8abec4383aeb5b994d6089efd.svg\n",
      "/static/git-shell-spreadsheets-66c86094defdaf244523de1474931dfb.svg\n",
      "data:image/svg+xml;base64,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\n"
     ]
    }
   ],
   "source": [
    "#ALL THE IMAGES:\n",
    "\n",
    "img_links=soup.find_all(\"img\")\n",
    "for ilink in img_links:\n",
    "    print(ilink.get(\"src\"))"
   ]
  },
  {
   "cell_type": "code",
   "execution_count": 20,
   "metadata": {},
   "outputs": [
    {
     "name": "stdout",
     "output_type": "stream",
     "text": [
      "[]\n"
     ]
    }
   ],
   "source": [
    "#NO TABLES AVAILABLE:\n",
    "\n",
    "all_tables=soup.find_all('table')\n",
    "print(all_tables)"
   ]
  },
  {
   "cell_type": "code",
   "execution_count": null,
   "metadata": {},
   "outputs": [],
   "source": []
  },
  {
   "cell_type": "code",
   "execution_count": null,
   "metadata": {},
   "outputs": [],
   "source": []
  },
  {
   "cell_type": "code",
   "execution_count": null,
   "metadata": {},
   "outputs": [],
   "source": []
  }
 ],
 "metadata": {
  "kernelspec": {
   "display_name": "Python 3",
   "language": "python",
   "name": "python3"
  },
  "language_info": {
   "codemirror_mode": {
    "name": "ipython",
    "version": 3
   },
   "file_extension": ".py",
   "mimetype": "text/x-python",
   "name": "python",
   "nbconvert_exporter": "python",
   "pygments_lexer": "ipython3",
   "version": "3.6.4"
  }
 },
 "nbformat": 4,
 "nbformat_minor": 2
}
